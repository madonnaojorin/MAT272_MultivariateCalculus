{
  "nbformat": 4,
  "nbformat_minor": 0,
  "metadata": {
    "colab": {
      "provenance": [],
      "collapsed_sections": [],
      "include_colab_link": true
    },
    "kernelspec": {
      "name": "ir",
      "display_name": "R"
    },
    "language_info": {
      "name": "R"
    }
  },
  "cells": [
    {
      "cell_type": "markdown",
      "metadata": {
        "id": "view-in-github",
        "colab_type": "text"
      },
      "source": [
        "<a href=\"https://colab.research.google.com/github/madonnaojorin/MAT272_MultivariateCalculus/blob/main/Chapter13.ipynb\" target=\"_parent\"><img src=\"https://colab.research.google.com/assets/colab-badge.svg\" alt=\"Open In Colab\"/></a>"
      ]
    },
    {
      "cell_type": "markdown",
      "source": [
        "#13.1 Vector Functions and Space Curves"
      ],
      "metadata": {
        "id": "fcbyTgfmfj8o"
      }
    },
    {
      "cell_type": "markdown",
      "source": [
        "###Vector-valued Function\n",
        "\n",
        "If $f (t)$, $g(t)$, and $h(t)$ are the components of the vector $\\textbf{r}(t)$, then $f$, $g$, and $h$ are real-valued functions called the component functions of $\\textbf{r}$ and we can write\n",
        "$$\\textbf{r}=\\langle f (t), g(t), h(t)\\rangle=f (t)\\textbf{i}+ g(t)\\textbf{j}+ h(t)\\textbf{k}$$"
      ],
      "metadata": {
        "id": "rbA-h19Jfo0F"
      }
    },
    {
      "cell_type": "markdown",
      "source": [
        "###Limits and Continuity\n",
        "The limit of a vector function $\\textbf{r}$ is defined by taking the limits of its component functions as follows.\n",
        "\n",
        "If $\\textbf{r}=\\langle f (t), g(t), h(t)\\rangle$, then \n",
        "$$\\lim_{t\\to a}\\textbf{r}(t)=\\left\\langle \\lim_{t\\to a}f (t), \\lim_{t\\to a}g(t), \\lim_{t\\to a}h(t)\\right\\rangle$$"
      ],
      "metadata": {
        "id": "RNqaAxx4fou2"
      }
    },
    {
      "cell_type": "markdown",
      "source": [
        "#13.2 Derivatives and Integrals of Vector Functions"
      ],
      "metadata": {
        "id": "sBrjjP1Ff2bJ"
      }
    },
    {
      "cell_type": "markdown",
      "source": [
        "###Derivatives\n",
        "The derivative $\\textbf{r}'$ of a vector function r is defined in much the same way as for real-valued functions:\n",
        "$$\\frac{d\\textbf{r}}{dt}=\\lim_{h\\to 0}\\frac{\\textbf{r}(t+h)-\\textbf{r}(t)}{h}$$\n",
        "if this limit exists."
      ],
      "metadata": {
        "id": "4suYH8QNf4_s"
      }
    },
    {
      "cell_type": "markdown",
      "source": [
        "###Unit Tangent Vector\n",
        "$$\\textbf{T}(t)=\\frac{\\textbf{r}'(t)}{|\\textbf{r}'(t)|}$$"
      ],
      "metadata": {
        "id": "mq7b3H36gBm6"
      }
    },
    {
      "cell_type": "markdown",
      "source": [
        "###Theorem\n",
        "If $\\textbf{r}=\\langle f (t), g(t), h(t)\\rangle=f (t)\\textbf{i}+ g(t)\\textbf{j}+ h(t)\\textbf{k}$, where $f$, $g$, and $h$ are differentiable functions, then \n",
        "$$\\textbf{r}'(t)=\\langle f' (t), g'(t), h'(t)\\rangle=f' (t)\\textbf{i}+ g'(t)\\textbf{j}+ h'(t)\\textbf{k}$$\n"
      ],
      "metadata": {
        "id": "9CXKQ5OTgFu-"
      }
    },
    {
      "cell_type": "markdown",
      "source": [
        "###Differentiation Rules\n",
        "Suppose $\\textbf{u}$ and $\\textbf{v}$ are differentiable vector functions, $c$ is a scalar, and $f$ is a real-valued function. Then\n",
        "* $\\frac{d}{dt}[\\textbf{u}(t)+\\textbf{v}(t)]=\\textbf{u}'(t)+\\textbf{v}'(t)$\n",
        "* $\\frac{d}{dt}[c\\textbf{u}(t)]=c\\textbf{u}'(t)$\n",
        "* $\\frac{d}{dt}[f(t)\\textbf{u}(t)]=f'(t)\\textbf{u}(t)+f(t)\\textbf{u}'(t)$\n",
        "* $\\frac{d}{dt}[\\textbf{u}(t)\\cdot\\textbf{v}(t)]=\\textbf{u}'(t)\\cdot\\textbf{v}(t)+\\textbf{u}(t)\\cdot\\textbf{v}'(t)$\n",
        "* $\\frac{d}{dt}[\\textbf{u}(t)\\times\\textbf{v}(t)]=\\textbf{u}'(t)\\times\\textbf{v}(t)+\\textbf{u}(t)\\times\\textbf{v}'(t)$\n",
        "* $\\frac{d}{dt}[\\textbf{u}(f(t))]=f'(t)\\textbf{u}'(f(t))$\n"
      ],
      "metadata": {
        "id": "bCrmduq1gMA1"
      }
    },
    {
      "cell_type": "markdown",
      "source": [
        "###Definite Integral\n",
        "$$\\int_a^b\\textbf{r}(t)dt=\\left(\\int_a^bf(t)dt\\right)\\textbf{i}+\\left(\\int_a^bg(t)dt\\right)\\textbf{j}+\\left(\\int_a^bh(t)dt\\right)\\textbf{k}$$"
      ],
      "metadata": {
        "id": "hBBwbcQTgXhP"
      }
    },
    {
      "cell_type": "markdown",
      "source": [
        "#13.3 Arc Length and Curvature"
      ],
      "metadata": {
        "id": "uuXK4CrwgdAn"
      }
    },
    {
      "cell_type": "markdown",
      "source": [
        "###The Arc Length Function\n",
        "Suppose that $C$ is a curve given by a vector function\n",
        "$$\\textbf{r}(t)=f(t)\\textbf{i}+g(t)\\textbf{j}+h(t)\\textbf{k}\\hspace{5mm} a\\leq t\\leq b$$\n",
        "where $\\textbf{r}'$ is continuous and $C$ is traversed exactly once as $t$ increases from $a$ to $b$. Then we define its arc length function $s$ by\n",
        "$$s(t)=\\int_a^t|\\textbf{r}'(u)|du=\\int_a^t\\sqrt{\\left(\\frac{dx}{du}\\right)^2+\\left(\\frac{dy}{du}\\right)^2+\\left(\\frac{dz}{du}\\right)^2}du$$\n",
        "If we differentiate both sides, we obtain\n",
        "$$\\frac{ds}{dt}=|\\textbf{r}'(t)|$$"
      ],
      "metadata": {
        "id": "4hvMm5aEgfjK"
      }
    },
    {
      "cell_type": "markdown",
      "source": [
        "###Curvature\n",
        "The curvature of the curve given by the vector function $\\textbf{r}$  is\n",
        "$$\\kappa=\\left|\\frac{d\\textbf{T}}{ds}\\right|=\\frac{|\\textbf{T}'(t)|}{|\\textbf{r}'(t)|}=\\frac{|\\textbf{r}'(t)\\times\\textbf{r}''(t)|}{|\\textbf{r}'(t)|^3}$$"
      ],
      "metadata": {
        "id": "--AGNLASgfel"
      }
    },
    {
      "cell_type": "markdown",
      "source": [
        "For the special case of a plane curve with equation $y = f (x)$, we choose $x$ as the parameter and write $\\textbf{r}(x) = x \\textbf{i} + f (x) \\textbf{j}$.\n",
        "$$\\kappa (x)=\\frac{|f''(x)|}{\\left[1+(f'(x))^2\\right]^{\\frac{3}{2}}}$$"
      ],
      "metadata": {
        "id": "SS_GB2NVgnAn"
      }
    },
    {
      "cell_type": "markdown",
      "source": [
        "###Principal Unit Normal Vector $\\textbf{N}(t)$\n",
        "$$\\textbf{N}(t)=\\frac{\\textbf{T}'(t)}{|\\textbf{T}'(t)|}$$"
      ],
      "metadata": {
        "id": "YWvBtdIngpQ-"
      }
    },
    {
      "cell_type": "markdown",
      "source": [
        "###Binormal Vector $\\textbf{B}(t)$\n",
        "$$\\textbf{B}(t)=\\textbf{T}(t)\\times\\textbf{N}(t)$$"
      ],
      "metadata": {
        "id": "iOLtFxh8gsu5"
      }
    },
    {
      "cell_type": "markdown",
      "source": [
        "###Normal Plane\n",
        "The plane determined by the vectors $\\textbf{N}$ and $\\textbf{B}$ at a point $P$ on a curve $C$.\n"
      ],
      "metadata": {
        "id": "9psJB5t1gwYY"
      }
    },
    {
      "cell_type": "markdown",
      "source": [
        "###Osculating Plane\n",
        "The plane determined by the vectors $\\textbf{T}$ and $\\textbf{N}$ at a point $P$ on a curve $C$."
      ],
      "metadata": {
        "id": "HL1E5MrVg0lG"
      }
    }
  ]
}