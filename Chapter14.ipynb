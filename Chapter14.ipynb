{
  "nbformat": 4,
  "nbformat_minor": 0,
  "metadata": {
    "colab": {
      "provenance": [],
      "collapsed_sections": [],
      "include_colab_link": true
    },
    "kernelspec": {
      "name": "ir",
      "display_name": "R"
    },
    "language_info": {
      "name": "R"
    }
  },
  "cells": [
    {
      "cell_type": "markdown",
      "metadata": {
        "id": "view-in-github",
        "colab_type": "text"
      },
      "source": [
        "<a href=\"https://colab.research.google.com/github/madonnaojorin/MAT272_MultivariateCalculus/blob/main/Chapter14.ipynb\" target=\"_parent\"><img src=\"https://colab.research.google.com/assets/colab-badge.svg\" alt=\"Open In Colab\"/></a>"
      ]
    },
    {
      "cell_type": "markdown",
      "source": [
        "#14.1 Functions of Several Variables"
      ],
      "metadata": {
        "id": "EdHRTlB9JwJz"
      }
    },
    {
      "cell_type": "markdown",
      "source": [
        "##Definition: Domain and Range\n",
        "A function $f$ of two variables is a rule that assigns to each ordered pair of real numbers $(x, y)$ in a set $D$ a unique real number denoted by $f(x, y)$. The set $D$ is the domain of $f$ and its range is the set of values that $f$ takes on, that is $\\{f(x,y)|(x,y)\\in D\\}.$"
      ],
      "metadata": {
        "id": "n8tLUt0lJ0by"
      }
    },
    {
      "cell_type": "markdown",
      "source": [
        "##Definition: graph\n",
        "If $f$ is a function of two variables with domain $D$, then the **graph** of $f$ is the set of all points $(x,y,z)$ in $\\mathbb{R}^3$ such that $z=f(x,y)$ and $(x,y)$ is in $D$."
      ],
      "metadata": {
        "id": "30KNZkaHMmHZ"
      }
    },
    {
      "cell_type": "markdown",
      "source": [
        "##Definition: Level Curves\n",
        "The level curves of a function $f$ of two variables are the curves with equations $f(x, y) = k$, where $k$ is a constant (in the range of $f$)."
      ],
      "metadata": {
        "id": "CrLulJJ6J8m7"
      }
    },
    {
      "cell_type": "markdown",
      "source": [
        "#14.2: Limits and Continuity"
      ],
      "metadata": {
        "id": "74c-N1PRKAbB"
      }
    },
    {
      "cell_type": "markdown",
      "source": [
        "##Definition: Limit\n",
        "Let $f$ be a function of two variables whose domain $D$ includes points arbitrarily close to $(a, b)$. Then we say that the limit of $f(x, y)$ as $(x, y)$ approaches $(a, b)$ is $L$ and we write\n",
        "$$\\lim_{(x,y)\\to(a,b)}f(x,y)=L$$\n",
        "if for every number $\\epsilon  < 0$ there is a corresponding number $\\delta >0$ such that\n",
        "if $$(x,y)\\in D$$ and $$0<\\sqrt{(x-a)^2+(y-b)^2}<\\delta$$ then $$|f(x,y)-L|<\\epsilon$$."
      ],
      "metadata": {
        "id": "NcTTaHPgKAUZ"
      }
    },
    {
      "cell_type": "markdown",
      "source": [
        "##Definition: Continuity\n",
        "A function $f$ of two variables is called continuous at $(a, b)$ if \n",
        "$$\\lim_{(x,y)\\to(a,b)}f(x,y)=f(a,b).$$\n",
        "We say $f$ is continuous on $D$ if $f$ is continuous at every point $(a, b)$ in $D$."
      ],
      "metadata": {
        "id": "Cxkwo9PrKMQX"
      }
    },
    {
      "cell_type": "markdown",
      "source": [
        "#14.3 Partial Derivatives"
      ],
      "metadata": {
        "id": "23TF5epHKQ95"
      }
    },
    {
      "cell_type": "markdown",
      "source": [
        "###Partial Derivatives\n",
        "If $f$ is a function of two variables, its partial derivatives are the functions $f_x$ and $f_y$ defined by\n",
        "$$f_x(x,y)=\\lim_{h\\to 0} \\frac{f(x+h,y)-f(x,y)}{h}$$\n",
        "$$f_y(x,y)=\\lim_{h\\to 0} \\frac{f(x,y+h)-f(x,y)}{h}$$"
      ],
      "metadata": {
        "id": "9ykksBXjKUB0"
      }
    },
    {
      "cell_type": "markdown",
      "source": [
        "###Rule for Finding Partial Derivatives of $z = f(x, y)$\n",
        "To find $f_x$, regard $y$ as a constant and differentiate $f(x, y)$ with respect to $x$.\n",
        "\n",
        "To find $f_y$, regard $x$ as a constant and differentiate $f(x, y)$ with respect to $y$."
      ],
      "metadata": {
        "id": "hH8z-foVKYQn"
      }
    },
    {
      "cell_type": "markdown",
      "source": [
        "###Higher Derivatives\n",
        "If $f$ is a function of two variables, then its partial derivatives $f_x$ and $f_y$ are also functions of two variables, so we can consider their partial derivatives $(f_x)_x, (f_x)_y, (f_y)_x$, and $(f_y)_y$, which are called the second partial derivatives of $f$."
      ],
      "metadata": {
        "id": "rEoXVFDqKeH2"
      }
    },
    {
      "cell_type": "markdown",
      "source": [
        "###Clairaut's Theorem \n",
        "Suppose $f$ is defined on a disk $D$ that contains the point $(a, b)$. If the functions $f_{xy}$ and $f_{yx}$ are both continuous on $D$, then\n",
        "$$f_{xy}(a,b)=f_{yx}(a,b).$$"
      ],
      "metadata": {
        "id": "NKJloxBDKhzp"
      }
    },
    {
      "cell_type": "markdown",
      "source": [
        "###Laplace’s Equation \n",
        "$$\\frac{\\partial^2 u}{\\partial x^2}+\\frac{\\partial^2 u}{\\partial y^2}=0$$"
      ],
      "metadata": {
        "id": "HIe9sxtZKlHC"
      }
    },
    {
      "cell_type": "markdown",
      "source": [
        "###Wave Equation \n",
        "$$\\frac{\\partial^2 u}{\\partial t^2}=a^2\\frac{\\partial^2 u}{\\partial x^2}$$"
      ],
      "metadata": {
        "id": "PB4ICkU9Kn7j"
      }
    },
    {
      "cell_type": "markdown",
      "source": [
        "#14.4 Tangent Planes and Linear Approximations"
      ],
      "metadata": {
        "id": "ttdzwKzwKroH"
      }
    },
    {
      "cell_type": "markdown",
      "source": [
        "###Tangent Plane\n",
        "Suppose f has continuous partial derivatives. An equation of the tangent plane to the surface $z = f(x, y)$ at the point $P(x_0, y_0, z_0)$ is\n",
        "$$z-z_0=f_{x}(x_0,y_0)(x-x_0)+f_{y}(x_0,y_0)(y-y_0)$$"
      ],
      "metadata": {
        "id": "VG-KOdODKuy2"
      }
    },
    {
      "cell_type": "markdown",
      "source": [
        "###Linearization\n",
        "The linear function whose graph is described by \n",
        "$$z=f(a,b)+f_{x}(a,b)(x-a)+f_{y}(a,b)(y-b)$$ is\n",
        "$$L(x,y)=f(a,b)+f_{x}(a,b)(x-a)+f_{y}(a,b)(y-b)$$"
      ],
      "metadata": {
        "id": "bohv_TjmK0QR"
      }
    },
    {
      "cell_type": "markdown",
      "source": [
        "###Linear approximation\n",
        "$$f(x,y)\\approx f(a,b)+f_{x}(a,b)(x-a)+f_{y}(a,b)(y-b)$$"
      ],
      "metadata": {
        "id": "zvSNYTRhK4Hs"
      }
    },
    {
      "cell_type": "markdown",
      "source": [
        "###Differentiable\n",
        "If $z = f(x, y)$, then $f$ is differentiable at $(a, b)$ if $\\Delta z$ can be expressed in the form\n",
        "$$\\Delta z = f_x(a,b)+\\Delta x+f_y(a,b)+\\Delta y+\\epsilon_1 \\Delta x +\\epsilon_2 \\Delta y$$\n",
        "where $\\epsilon_1$ and $\\epsilon_2 \\to 0$ as $(\\Delta x, \\Delta y) \\to  (0, 0)$."
      ],
      "metadata": {
        "id": "JXa_5ptlK9Rv"
      }
    },
    {
      "cell_type": "markdown",
      "source": [
        "If the partial derivatives $f_x$ and $f_y$ exist near $(a, b)$ and are continuous at $(a, b)$, then $f$ is differentiable at $(a, b)$."
      ],
      "metadata": {
        "id": "JroTDvy9LFs0"
      }
    },
    {
      "cell_type": "markdown",
      "source": [
        "###Differentials\n",
        "For a differentiable function of two variables, $z = f(x, y)$, we define the differentials $dx$ and $dy$ to be independent variables; that is, they can be given any values. Then the differential $dz$, also called the total differential, is defined by\n",
        "$$dz=f_x(x,y)dx+f_y(x,y)dy=\\frac{\\partial z}{\\partial x}dx+\\frac{\\partial z}{\\partial y}dy$$"
      ],
      "metadata": {
        "id": "PNm82_J0LIAn"
      }
    },
    {
      "cell_type": "markdown",
      "source": [
        "#14.5: The Chain Rule"
      ],
      "metadata": {
        "id": "Rc83hR9hLPQX"
      }
    },
    {
      "cell_type": "markdown",
      "source": [
        "###The Chain Rule (Case 1)\n",
        "Suppose that $z = f(x, y)$ is a differentiable function of $x$ and $y$, where $x = g(t)$ and $y = h(t)$ are both differentiable functions of $f$. Then $z$ is a differentiable function of $t$ and\n",
        "$$\\frac{dz}{dt}= \\frac{\\partial f}{\\partial x}\\frac{dx}{dt}+\\frac{\\partial f}{\\partial y}\\frac{dy}{dt}$$"
      ],
      "metadata": {
        "id": "UmcYGw46LRig"
      }
    },
    {
      "cell_type": "markdown",
      "source": [
        "###The Chain Rule (Case 2)\n",
        "Suppose that $z = f(x, y)$ is a differentiable function of $x$ and $y$, where $x = g(s, t)$ and $y = h(s, t)$ are differentiable functions of $s$ and $t$. Then\n",
        "$$\\frac{\\partial z}{\\partial s}= \\frac{\\partial z}{\\partial x}\\frac{\\partial x}{\\partial s}+\\frac{\\partial z}{\\partial y}\\frac{\\partial y}{\\partial s}, \\hspace{3mm} \\frac{\\partial z}{\\partial t}= \\frac{\\partial z}{\\partial x}\\frac{\\partial x}{\\partial t}+\\frac{\\partial z}{\\partial y}\\frac{\\partial y}{\\partial t}$$"
      ],
      "metadata": {
        "id": "VjV9FXAYLWLB"
      }
    },
    {
      "cell_type": "markdown",
      "source": [
        "###The Chain Rule (General Version)  \n",
        "Suppose that $u$ is a differentiable function of the $n$ variables $x_1, x_2,\\cdots, x_n$ and each $x_j$ is a differentiable function of the $m$ variables $t_1, t_2,\\cdots, t_m$. Then $u$ is a function of $t_1, t_2,\\cdots, t_m$ and\n",
        "$$\\frac{\\partial u}{\\partial t_i}= \\frac{\\partial u}{\\partial x_1}\\frac{\\partial x_1}{\\partial t_i}+\\frac{\\partial u}{\\partial x_2}\\frac{\\partial x_2}{\\partial t_i}+\\cdots+\\frac{\\partial u}{\\partial x_n}\\frac{\\partial x_n}{\\partial t_i}$$\n",
        "for each $i = 1, 2, \\cdots, m$."
      ],
      "metadata": {
        "id": "aOSHfMumLahS"
      }
    },
    {
      "cell_type": "markdown",
      "source": [
        "###Implicit Differentiation\n",
        "$$\\frac{dy}{dx}=-\\frac{\\frac{\\partial F}{\\partial x}}{\\frac{\\partial F}{\\partial y}}=-\\frac{F_x}{F_y}$$\n",
        "$$\\frac{\\partial z}{\\partial x}=-\\frac{\\frac{\\partial F}{\\partial x}}{\\frac{\\partial F}{\\partial z}}, \\hspace{3mm}\\frac{\\partial z}{\\partial y}=-\\frac{\\frac{\\partial F}{\\partial y}}{\\frac{\\partial F}{\\partial z}}$$"
      ],
      "metadata": {
        "id": "9iOW4GfaLfwt"
      }
    },
    {
      "cell_type": "markdown",
      "source": [
        "#14.6 Directional Derivatives and the Gradient Vector"
      ],
      "metadata": {
        "id": "DedrC7xFOdQC"
      }
    },
    {
      "cell_type": "markdown",
      "source": [
        "##Definition: Directional Derivative\n",
        "The directional derivative of $f$ at $(x_0, y_0)$ in the direction of a unit vector $\\textbf{u}=\\langle a,b\\rangle$ is\n",
        "$$D_\\textbf{u}f(x_0,y_0)=\\lim_{h\\to 0}\\frac{f(x_0+ha,y_0+hb)-f(x_0,y_0)}{h}$$\n",
        "if this limit exists."
      ],
      "metadata": {
        "id": "Z0fgfwvROibv"
      }
    },
    {
      "cell_type": "markdown",
      "source": [
        "###Theorem\n",
        "If $f$ is a differentiable function of $x$ and $y$, then $f$ has a directional derivative in the direction of any unit vector $\\textbf{u}=\\langle a,b\\rangle$ and\n",
        "$$D_\\textbf{u}f(x,y)=f_x(x,y)a+f_y(x,y)b$$"
      ],
      "metadata": {
        "id": "EDnTXjl1OogN"
      }
    },
    {
      "cell_type": "markdown",
      "source": [
        "If the unit vector $u$ makes an angle $\\theta$ with the positive x-axis, then we can write $\\textbf{u}=\\langle \\cos\\theta, \\sin\\theta \\rangle$ then \n",
        "$$D_\\textbf{u}f(x,y)=f_x(x,y)\\cos\\theta+f_y(x,y)\\sin\\theta$$"
      ],
      "metadata": {
        "id": "7U58PLNOOw4U"
      }
    },
    {
      "cell_type": "markdown",
      "source": [
        "##Definition: The Gradient Vector\n",
        "If $f$ is a function of two variables $x$ and $y$, then the gradient of $f$ is the vector function $\\nabla f$ defined by\n",
        " $$\\nabla f(x,y)=\\langle f_x(x,y), f_y(x,y)\\rangle=\\frac{\\partial f}{\\partial x}\\textbf{i}+\\frac{\\partial f}{\\partial y}\\textbf{j}$$"
      ],
      "metadata": {
        "id": "Yu_RHMmhOzQr"
      }
    },
    {
      "cell_type": "markdown",
      "source": [
        "##Definition: The Directional Derivative of a Differentiable Function\n",
        " $$D_\\textbf{u}f(x,y)=\\nabla f(x,y)\\cdot \\textbf{u}$$"
      ],
      "metadata": {
        "id": "ys87Zau4O5_5"
      }
    },
    {
      "cell_type": "markdown",
      "source": [
        "###Theorem\n",
        "Suppose $f$ is a differentiable function of two or three variables. The maximum value of the directional derivative $D_\\textbf{u}f(\\textbf{x})$ is $|\\nabla f(\\textbf{x})|$ and it occurs when $u$ has the same direction as the gradient vector $\\nabla f(\\textbf{x})$."
      ],
      "metadata": {
        "id": "7lWA4_D1PCmV"
      }
    },
    {
      "cell_type": "markdown",
      "source": [
        "#14.7 Maximum and Minimum Values"
      ],
      "metadata": {
        "id": "2Z2WTgGOPL7V"
      }
    },
    {
      "cell_type": "markdown",
      "source": [
        "##Definition: Local Minimum and Local Maximum\n",
        "A function of two variables has a local maximum at $(a, b)$ if $f(x, y) \\leq f(a, b)$ when $(x, y)$ is near $(a, b)$. [This means that $f(x, y) \\leq f(a, b)$ for all points $(x, y)$ in some disk with center $(a, b)$.] The number $f(a, b)$ is called a local maximum value. If $f(x, y) \\geq f(a, b)$ when $(x, y)$ is near $(a, b)$, then $f$ has a local minimum at $(a, b)$ and $f(a, b)$ is a local minimum value."
      ],
      "metadata": {
        "id": "KGUZcWOHPUqH"
      }
    },
    {
      "cell_type": "markdown",
      "source": [
        "If the inequalities in Definition 1 hold for all points $(x, y)$ in the domain of $f$, then $f$ has an absolute maximum (or absolute minimum) at $(a, b)$."
      ],
      "metadata": {
        "id": "TGRQLFZuPfht"
      }
    },
    {
      "cell_type": "markdown",
      "source": [
        "###Theorem \n",
        "If $f$ has a local maximum or minimum at $(a, b)$ and the first-order partial derivatives of $f$ exist there, then $f_x(a, b) = 0$ and $f_y(a, b) = 0$."
      ],
      "metadata": {
        "id": "5wJ2RibOPiJh"
      }
    },
    {
      "cell_type": "markdown",
      "source": [
        "###Second Derivatives Test\n",
        "Suppose the second partial derivatives of $f$ are continuous on a disk with center $(a, b)$, and suppose that $f_x(a, b) = 0$ and $f_y(a, b) = 0$ [that is, $(a, b)$ is a critical point of $f$]. Let\n",
        "$$D=D(a,b)=f_{xx}(a,b)f_{yy}(a,b)-[f_{xy}(a,b)]^2$$\n",
        "1.    If $D > 0$ and $f_{xx}(a, b) > 0$, then $f(a, b)$ is a local minimum.\n",
        "2.     If $D > 0$ and $f_{xx}(a, b) < 0$, then $f(a, b)$ is a local maximum.\n",
        "3.  If $D < 0$, then $f(a, b)$ is not a local maximum or minimum.\n",
        "\n",
        "In case (3) the point $(a, b)$ is called a saddle point of $f$ and the graph of $f$ crosses its tangent plane at $(a, b)$."
      ],
      "metadata": {
        "id": "SXobzOiXPo2_"
      }
    },
    {
      "cell_type": "markdown",
      "source": [
        "###Extreme Value Theorem for Functions of Two Variables\n",
        "If $f$ is continuous on a closed, bounded set $D$ in $\\mathbb{R}^2$ then $f$ attains an absolute maximum value $f(x_1, y_1)$ and an absolute minimum value $f(x_2, y_2)$ at some points $(x_1, y_1)$ and $(x_2, y_2)$ in $D$."
      ],
      "metadata": {
        "id": "wyJdRMz6P6yb"
      }
    },
    {
      "cell_type": "markdown",
      "source": [
        "###Finding Absolute Maximum and Minimum\n",
        "To find the absolute maximum and minimum values of a continuous function $f$ on a closed, bounded set $D$:\n",
        "* Find the values of $f$ at the critical points of $f$ in $D$.\n",
        "* Find the extreme values of $f$ on the boundary of $D$.\n",
        "* The largest of the values from steps 1 and 2 is the absolute maximum value; the smallest of these values is the absolute minimum value."
      ],
      "metadata": {
        "id": "f0ac8EZnQBKX"
      }
    },
    {
      "cell_type": "markdown",
      "source": [
        "#14.8 Lagrange Multipliers"
      ],
      "metadata": {
        "id": "p2G6W8K6QHgw"
      }
    },
    {
      "cell_type": "markdown",
      "source": [
        "##Definition: Lagrange Multiplier\n",
        "If $\\nabla g(x_0,y_0,z_0) \\neq 0$, there is a number $\\lambda$ such that $$\\nabla f(x_0,y_0,z_0)=\\lambda \\nabla g(x_0,y_0,z_0)$$\n",
        "The number $\\lambda$ is called a Lagrange multiplier."
      ],
      "metadata": {
        "id": "8C09LEPlQJh0"
      }
    },
    {
      "cell_type": "markdown",
      "source": [
        "###Method of Lagrange Multipliers\n",
        "To find the maximum and minimum values of $f(x, y, z)$ subject to the constraint $g(x, y, z) = k$ [assuming that these extreme values exist and $\\nabla g\\neq 0$ on the surface $g(x, y, z) = k$]:\n",
        "1. Find all values of $x, y, z$, and $\\lambda$ such that $$\\nabla f(x_0,y_0,z_0)=\\lambda \\nabla g(x_0,y_0,z_0)$$ and $$g(x,y,z)=k$$.\n",
        "2. Evaluate f at all the points $(x, y, z)$ that result from step (a). The largest of these values is the maximum value of $f$ ; the smallest is the minimum value of $f$."
      ],
      "metadata": {
        "id": "_ISQqiHUObSV"
      }
    }
  ]
}