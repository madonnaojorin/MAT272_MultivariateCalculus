{
  "nbformat": 4,
  "nbformat_minor": 0,
  "metadata": {
    "colab": {
      "provenance": [],
      "collapsed_sections": [],
      "include_colab_link": true
    },
    "kernelspec": {
      "name": "ir",
      "display_name": "R"
    },
    "language_info": {
      "name": "R"
    }
  },
  "cells": [
    {
      "cell_type": "markdown",
      "metadata": {
        "id": "view-in-github",
        "colab_type": "text"
      },
      "source": [
        "<a href=\"https://colab.research.google.com/github/madonnaojorin/MAT272_MultivariateCalculus/blob/main/Chapter15.ipynb\" target=\"_parent\"><img src=\"https://colab.research.google.com/assets/colab-badge.svg\" alt=\"Open In Colab\"/></a>"
      ]
    },
    {
      "cell_type": "markdown",
      "source": [
        "#15.1 Double Integrals over Rectangles"
      ],
      "metadata": {
        "id": "JW0pAQxJQ0db"
      }
    },
    {
      "cell_type": "markdown",
      "source": [
        "##Definition: The Double Integrals\n",
        "The double integral of $f$ over the rectangle $R$ is\n",
        "$$\\iint_R f(x,y) dA=\\lim_{m,n\\to\\infty}\\sum_{i=1}^m\\sum_{j=1}^n f(x_{ij}^*,y_{ij}^*)\\Delta A$$\n",
        "if this limit exists."
      ],
      "metadata": {
        "id": "InDZnrA4Q2gt"
      }
    },
    {
      "cell_type": "markdown",
      "source": [
        "###Midpoint Rule for Double Integrals\n",
        "$$\\iint_R f(x,y) dA\\approx\\sum_{i=1}^m\\sum_{j=1}^n f(\\bar{x_{i}},\\bar{y_{j}})\\Delta A$$\n",
        "where $\\bar{x_i}$ is the midpoint of $[x_{i-1}, x_i]$ and  $\\bar{y_j}$ is the midpoint of $[y_{j-1}, y_j]$."
      ],
      "metadata": {
        "id": "-SQ2pshCVcy7"
      }
    },
    {
      "cell_type": "markdown",
      "source": [
        "###Iterated Integrals\n",
        "If we now integrate the function $A$ with respect to $x$ from $x = a$ to $x = b$, we get\n",
        "$$\\int_a^b A(x)dx=\\int_a^b\\left[\\int_c^df(x,y)dy\\right]dx$$\n",
        "\n",
        "$$\\int_a^b\\int_c^df(x,y)dydx=\\int_a^b\\left[\\int_c^df(x,y)dy\\right]dx$$\n",
        "\n",
        "$$\\int_c^d\\int_a^bf(x,y)dxdy=\\int_c^d\\left[\\int_a^bf(x,y)dx\\right]dy$$"
      ],
      "metadata": {
        "id": "P8cAG5MPVkFl"
      }
    },
    {
      "cell_type": "markdown",
      "source": [
        "###Fubini’s Theorem\n",
        "If $f$ is continuous on the rectangle\n",
        "$R=\\{(x,y)|a\\leq x \\leq b,c\\leq y\\leq d\\}$, then\n",
        "$$\\iint_R f(x,y) dA=\\int_c^d\\int_a^bf(x,y)dxdy=\\int_a^b\\int_c^df(x,y)dydx$$"
      ],
      "metadata": {
        "id": "r1Fe5m8oVnR2"
      }
    },
    {
      "cell_type": "markdown",
      "source": [
        "#15.2 Double Integrals over General Regions"
      ],
      "metadata": {
        "id": "j20boUGqVqdv"
      }
    },
    {
      "cell_type": "markdown",
      "source": [
        "###Type I Region\n",
        "If $f$ is continuous on a type I region $D$ such that\n",
        "$$D=\\{(x,y)|a\\leq x \\leq b,g_1(x)\\leq y \\leq g_2(y)\\}$$\n",
        "then\n",
        "$$\\iint_D f(x,y) dA=\\int_a^b\\int_{g_1(x)}^{g_2(x)}f(x,y)dydx$$"
      ],
      "metadata": {
        "id": "WCYvgPJvVssf"
      }
    },
    {
      "cell_type": "markdown",
      "source": [
        "###Type II Region\n",
        "If $f$ is continuous on a type II region $D$ such that\n",
        "$$D=\\{(x,y)|c\\leq y \\leq d,h_1(x)\\leq y \\leq h_2(y)\\}$$\n",
        "then\n",
        "$$\\iint_D f(x,y) dA=\\int_c^d\\int_{h_1(x)}^{h_2(x)}f(x,y)dxdy$$"
      ],
      "metadata": {
        "id": "n-QhJ130V0AS"
      }
    },
    {
      "cell_type": "markdown",
      "source": [
        "###Properties of Double Integrals \n",
        "\n",
        "1. $$\\iint_D f(x,y)+g(x,y) dA=\\iint_Df(x,y)dA+\\iint_Dg(x,y)dA$$\n",
        "\n",
        "2. $$\\iint_D cf(x,y)dA =c\\iint_Df(x,y)dA$$ where $c$ is a constant\n",
        "\n"
      ],
      "metadata": {
        "id": "QOGhmmAoV6KL"
      }
    },
    {
      "cell_type": "markdown",
      "source": [
        "3. If $f(x, y) \\geq g(x, y)$ for all $(x, y)$ in $D$, then $$\\iint_D f(x,y)dA \\geq \\iint_D g(x,y)dA$$\n",
        "\n",
        "4. If $D=D_1\\cup D_2$, where $D_1$ and $D_2$ don’t overlap except perhaps on their boundaries, then $$\\iint_D f(x,y)dA =\\iint_{D_1}f(x,y)dA+\\iint_{D_2}f(x,y)dA$$\n",
        "\n",
        "5. $$\\iint_D 1 dA=A(D)$$\n",
        "6. If $m \\leq  f(x, y) \\leq M$ for all $(x, y)$ in $D$, then $$mA(d)\\leq \\iint_D f(x,y)dA\\leq MA(D)$$"
      ],
      "metadata": {
        "id": "BazRWICjWgVj"
      }
    },
    {
      "cell_type": "markdown",
      "source": [
        "#15.3 Double Integrals in Polar Coordinates"
      ],
      "metadata": {
        "id": "_DmmgmpvWwag"
      }
    },
    {
      "cell_type": "markdown",
      "source": [
        "###Change to Polar Coordinates in a Double Integral\n",
        "If $f$ is continuous on a polar rectangle $R$ given by $0 \\leq a \\leq r \\leq b$, $\\alpha \\leq\\theta\\leq\\beta$, where $0\\leq\\beta-\\alpha\\leq 2\\pi$, then\n",
        "  $$\\iint_R f(x,y)dA =\\int_\\alpha^\\beta\\int_a^b f(r\\cos\\theta,r\\sin\\theta)rdrd\\theta$$\n",
        "  \n",
        "If $f$ is continuous on a polar region of the form\n",
        "$$D=\\{(r,\\theta)|\\alpha\\leq \\theta \\leq \\beta,h_1(\\theta)\\leq r \\leq h_2(\\theta)\\}$$\n",
        "then\n",
        "$$\\iint_D f(x,y) dA=\\int_\\alpha^\\beta\\int_{h_1(\\theta)}^{h_2(\\theta)}f(r\\cos\\theta,r\\sin\\theta)rdrd\\theta$$"
      ],
      "metadata": {
        "id": "bopWzPD8QyVY"
      }
    },
    {
      "cell_type": "markdown",
      "source": [
        "#15.5 Surface Area"
      ],
      "metadata": {
        "id": "TmPYhEywIHNA"
      }
    },
    {
      "cell_type": "markdown",
      "source": [
        "##Definition: Surface area\n",
        "The area of the surface with equation $z=f(x,y),(x,y)\\in D$, where $f_x$ and $f_y$ are continuous, is\n",
        "$$A(S)=\\iint_D\\sqrt{[f_x(x,y)]^2+[f_y(x,y)]^2+1}dA$$"
      ],
      "metadata": {
        "id": "XN0thG4eIIje"
      }
    },
    {
      "cell_type": "markdown",
      "source": [
        "#15.6 Triple Integrals"
      ],
      "metadata": {
        "id": "4Th5b8kZIs9U"
      }
    },
    {
      "cell_type": "markdown",
      "source": [
        "##Definition: The Triple Integrals\n",
        "The triple integral of $f$ over the box $B$ is\n",
        "$$\\iiint_B f(x,y,z) dV=\\lim_{l,m,n\\to\\infty}\\sum_{i=1}^l\\sum_{j=1}^m\\sum_{k=1}^n f(x_{ijk}^*,y_{ijk}^*,z_{ijk}^*)\\Delta V$$\n",
        "if this limit exists."
      ],
      "metadata": {
        "id": "BbrcPSeAIvp8"
      }
    },
    {
      "cell_type": "markdown",
      "source": [
        "###Fubini’s Theorem\n",
        "If $f$ is continuous on the rectangle box\n",
        "$B=[a,b]\\times[c,d]\\times[r,s]$, then\n",
        "$$\\iiint_B f(x,y,z) dV=\\int_r^s\\int_c^d\\int_a^bf(x,y,z)dxdydz=\\int_a^b\\int_c^d\\int_s^rf(x,y,z)dzdydx$$"
      ],
      "metadata": {
        "id": "0tW5cPauJcYo"
      }
    },
    {
      "cell_type": "markdown",
      "source": [
        "#15.7 Triple Integrals in Cylindrical Coordinates"
      ],
      "metadata": {
        "id": "RM4aWavEJ9V3"
      }
    },
    {
      "cell_type": "markdown",
      "source": [
        "###Triple integral in cylindrical coordinates:\n",
        "$$\\iiint_E f(x,y)dV=\\int_\\alpha ^\\beta\\int_{h_1(\\theta)}^{h_2(\\theta)}\\int_{u_1(r\\cos\\theta,r\\sin\\theta)}^{u_2(r\\cos\\theta,r\\sin\\theta)}f(r\\cos\\theta,r\\sin\\theta,z)rdzdrd\\theta$$"
      ],
      "metadata": {
        "id": "DX4BAICuLvoe"
      }
    },
    {
      "cell_type": "markdown",
      "source": [
        "#15.8 Triple Integrals in Spherical Coordinates"
      ],
      "metadata": {
        "id": "9fXky--pMtzi"
      }
    },
    {
      "cell_type": "markdown",
      "source": [
        "###Triple integral in spherical coordinates:\n",
        "$$\\iiint_E f(x,y)dV=\\int_c^d\\int_\\alpha ^\\beta\\int_a^bf(\\rho\\sin\\phi\\cos\\theta,\\rho\\sin\\phi\\sin\\theta,\\rho\\cos\\phi)\\rho^2\\sin\\phi d\\rho d\\theta d\\phi$$\n",
        "where $E=\\{(\\rho,\\theta,\\phi)|a\\leq\\rho\\leq b,\\alpha\\leq\\theta\\leq\\beta,c\\leq\\phi\\leq d\\}$"
      ],
      "metadata": {
        "id": "VYR42XMkMC__"
      }
    }
  ]
}